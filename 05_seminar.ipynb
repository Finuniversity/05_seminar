{
 "cells": [
  {
   "cell_type": "markdown",
   "id": "44cf42bb",
   "metadata": {},
   "source": [
    "## Семинар №5: Функциональное программирование"
   ]
  },
  {
   "cell_type": "markdown",
   "id": "fecca14e",
   "metadata": {},
   "source": [
    "__1) Реализовать функцию factorial(n) двумя способами: с помощью цикла и рекурсии.__"
   ]
  },
  {
   "cell_type": "code",
   "execution_count": 1,
   "id": "0c74a0ea",
   "metadata": {},
   "outputs": [],
   "source": [
    "# Your code\n"
   ]
  },
  {
   "cell_type": "markdown",
   "id": "106832e8",
   "metadata": {},
   "source": [
    "__1.1) С использованием глобальной переменной реализовать вывод на экран отладочной информации о вызовах функции factorial(n) печатающий с отступами, соответствующими глубине рекурсии.__\n",
    "\n",
    "*Пример:*\n",
    "\n",
    "In: factorial(4)\n",
    "    \n",
    "    factorial(4)\n",
    "\n",
    "        factorial(3)\n",
    "        \n",
    "            factorial(2)\n",
    "\n",
    "                factorial(1)\n",
    "      \n",
    "                    factorial(0)\n",
    "                    "
   ]
  },
  {
   "cell_type": "markdown",
   "id": "32cae3a1",
   "metadata": {},
   "source": [
    "__1.2) Реализовать функции printIn(s) и printOut(s), которые выводят строки s с отступами, при этом каждый вывод printIn(s) приводит к увеличению отсутпа, а  каждый вывод printOut(s) приводит к уменьшению отсутпа.__"
   ]
  },
  {
   "cell_type": "code",
   "execution_count": 2,
   "id": "7507d449",
   "metadata": {},
   "outputs": [],
   "source": [
    "# Your code\n"
   ]
  },
  {
   "cell_type": "markdown",
   "id": "0416b089",
   "metadata": {},
   "source": [
    "__1.3) С использованием printIn(s) и printOut(s) реализовать отладочный вывод работы factorial(n) как для вызовов функций, так и для возвращаемых значений.__\n",
    "\n",
    "*Пример:*\n",
    "\n",
    "In: factorial(4)\n",
    "\n",
    "    factorial(4)\n",
    "\n",
    "        factorial(3)\n",
    "        \n",
    "            factorial(2)\n",
    "    \n",
    "                factorial(1)\n",
    "      \n",
    "                    factorial(0)\n",
    "                    \n",
    "                    1\n",
    "                    \n",
    "                1\n",
    "                \n",
    "            2\n",
    "            \n",
    "        6\n",
    "        \n",
    "    24"
   ]
  },
  {
   "cell_type": "markdown",
   "id": "d6c30e51",
   "metadata": {},
   "source": [
    "__2) Рекурсивно реализовать функцию fib(n) вычисляющую значение n-го числа Фибоначи. Учесть возможность вычисления числа с отрицательным индексом.__"
   ]
  },
  {
   "cell_type": "code",
   "execution_count": 3,
   "id": "2f5d66d1",
   "metadata": {},
   "outputs": [],
   "source": [
    "# Your code\n"
   ]
  },
  {
   "cell_type": "markdown",
   "id": "79bfaf23",
   "metadata": {},
   "source": [
    "__3) Реализовать функцию, принимающую на вход итерируемый объект функций и возвращающую словарь, в котором ключ - это первое слово из аннотации функции, а значение - ссылка на функцию.__"
   ]
  },
  {
   "cell_type": "code",
   "execution_count": 4,
   "id": "f735f205",
   "metadata": {},
   "outputs": [],
   "source": [
    "# Your code\n"
   ]
  },
  {
   "cell_type": "markdown",
   "id": "ba18a216",
   "metadata": {},
   "source": [
    "__4) Создать функцию реализующую REPL для словаря, созданного в задаче 3. Отдельно должен предусматриваться выход из цикла REPL.__"
   ]
  },
  {
   "cell_type": "code",
   "execution_count": 5,
   "id": "ff08cb00",
   "metadata": {},
   "outputs": [],
   "source": [
    "# Your code\n"
   ]
  },
  {
   "cell_type": "markdown",
   "id": "fffe9915",
   "metadata": {},
   "source": [
    "__4.1) Доработать REPL из задачи 4 так, чтобы пользователь мог передвать произвольное количество аргументов в функцию (при вводе пользователя аргументы разделяются пробелами).__\n",
    "\n",
    "*Пример:*\n",
    "\n",
    "    Ввод: пользователя > СКЛЕИТЬ текст1 текст2 текст3\n",
    "\n",
    "    Результат: > текст1текст2текст3"
   ]
  },
  {
   "cell_type": "code",
   "execution_count": 6,
   "id": "92d5245c",
   "metadata": {},
   "outputs": [],
   "source": [
    "# Your code\n"
   ]
  },
  {
   "cell_type": "markdown",
   "id": "4101a1fe",
   "metadata": {},
   "source": [
    "__4.2) Доработать REPL из задачи 4 так, чтобы пользователь мог передвать  аргументы в функцию по их имени(при вводе пользователя именованные аргументы опредлеяются как ИМЯ=ЗНАЧЕНИЕ).__ \n",
    "\n",
    "*Пример:*\n",
    "\n",
    "    Ввод пользователя > БРОСИТЬ расстояние = 5 \n",
    "\n",
    "    Результат > Предмет брошен на расстояние 5"
   ]
  },
  {
   "cell_type": "code",
   "execution_count": 7,
   "id": "5f4adb60",
   "metadata": {},
   "outputs": [],
   "source": [
    "# Your code\n"
   ]
  }
 ],
 "metadata": {
  "kernelspec": {
   "display_name": "Python 3 (ipykernel)",
   "language": "python",
   "name": "python3"
  },
  "language_info": {
   "codemirror_mode": {
    "name": "ipython",
    "version": 3
   },
   "file_extension": ".py",
   "mimetype": "text/x-python",
   "name": "python",
   "nbconvert_exporter": "python",
   "pygments_lexer": "ipython3",
   "version": "3.9.7"
  }
 },
 "nbformat": 4,
 "nbformat_minor": 5
}
